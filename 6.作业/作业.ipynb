{
 "cells": [
  {
   "cell_type": "markdown",
   "metadata": {},
   "source": [
    "## 作业一\n",
    "导入“FremontBridge.csv”和“BicycleWeather.csv”两个数据集，利用`dfply`模块完成数据处理。（请参考[dfply文档](https://github.com/kieferk/dfply)）"
   ]
  },
  {
   "cell_type": "code",
   "execution_count": 1,
   "metadata": {},
   "outputs": [],
   "source": [
    "import pandas as pd\n",
    "counts = pd.read_csv('FremontBridge.csv', index_col='Date', parse_dates=True)\n",
    "weather = pd.read_csv('BicycleWeather.csv', index_col='DATE', parse_dates=True)"
   ]
  },
  {
   "cell_type": "code",
   "execution_count": 2,
   "metadata": {},
   "outputs": [],
   "source": [
    "daily = counts.resample('d').sum()\n",
    "daily[\"date\"] = daily.index"
   ]
  },
  {
   "cell_type": "code",
   "execution_count": 3,
   "metadata": {},
   "outputs": [
    {
     "data": {
      "text/html": [
       "<div>\n",
       "<style scoped>\n",
       "    .dataframe tbody tr th:only-of-type {\n",
       "        vertical-align: middle;\n",
       "    }\n",
       "\n",
       "    .dataframe tbody tr th {\n",
       "        vertical-align: top;\n",
       "    }\n",
       "\n",
       "    .dataframe thead th {\n",
       "        text-align: right;\n",
       "    }\n",
       "</style>\n",
       "<table border=\"1\" class=\"dataframe\">\n",
       "  <thead>\n",
       "    <tr style=\"text-align: right;\">\n",
       "      <th></th>\n",
       "      <th>Fremont Bridge East Sidewalk</th>\n",
       "      <th>Fremont Bridge West Sidewalk</th>\n",
       "      <th>date</th>\n",
       "    </tr>\n",
       "    <tr>\n",
       "      <th>Date</th>\n",
       "      <th></th>\n",
       "      <th></th>\n",
       "      <th></th>\n",
       "    </tr>\n",
       "  </thead>\n",
       "  <tbody>\n",
       "    <tr>\n",
       "      <th>2012-10-03</th>\n",
       "      <td>1761.0</td>\n",
       "      <td>1760.0</td>\n",
       "      <td>2012-10-03</td>\n",
       "    </tr>\n",
       "    <tr>\n",
       "      <th>2012-10-04</th>\n",
       "      <td>1767.0</td>\n",
       "      <td>1708.0</td>\n",
       "      <td>2012-10-04</td>\n",
       "    </tr>\n",
       "    <tr>\n",
       "      <th>2012-10-05</th>\n",
       "      <td>1590.0</td>\n",
       "      <td>1558.0</td>\n",
       "      <td>2012-10-05</td>\n",
       "    </tr>\n",
       "    <tr>\n",
       "      <th>2012-10-06</th>\n",
       "      <td>926.0</td>\n",
       "      <td>1080.0</td>\n",
       "      <td>2012-10-06</td>\n",
       "    </tr>\n",
       "    <tr>\n",
       "      <th>2012-10-07</th>\n",
       "      <td>951.0</td>\n",
       "      <td>1191.0</td>\n",
       "      <td>2012-10-07</td>\n",
       "    </tr>\n",
       "  </tbody>\n",
       "</table>\n",
       "</div>"
      ],
      "text/plain": [
       "            Fremont Bridge East Sidewalk  Fremont Bridge West Sidewalk  \\\n",
       "Date                                                                     \n",
       "2012-10-03                        1761.0                        1760.0   \n",
       "2012-10-04                        1767.0                        1708.0   \n",
       "2012-10-05                        1590.0                        1558.0   \n",
       "2012-10-06                         926.0                        1080.0   \n",
       "2012-10-07                         951.0                        1191.0   \n",
       "\n",
       "                 date  \n",
       "Date                   \n",
       "2012-10-03 2012-10-03  \n",
       "2012-10-04 2012-10-04  \n",
       "2012-10-05 2012-10-05  \n",
       "2012-10-06 2012-10-06  \n",
       "2012-10-07 2012-10-07  "
      ]
     },
     "execution_count": 3,
     "metadata": {},
     "output_type": "execute_result"
    }
   ],
   "source": [
    "daily.head()"
   ]
  },
  {
   "cell_type": "code",
   "execution_count": 4,
   "metadata": {},
   "outputs": [],
   "source": [
    "from dfply import *"
   ]
  },
  {
   "cell_type": "markdown",
   "metadata": {},
   "source": [
    "1. 用`rename`函数将两列重命名为`east`和`west`。"
   ]
  },
  {
   "cell_type": "code",
   "execution_count": 7,
   "metadata": {},
   "outputs": [],
   "source": [
    "daily >>= rename(east='Fremont Bridge East Sidewalk',west='Fremont Bridge West Sidewalk')"
   ]
  },
  {
   "cell_type": "markdown",
   "metadata": {},
   "source": [
    "2. 用`mutate`函数将两列数字加总，添加新的一列`Total`。"
   ]
  },
  {
   "cell_type": "code",
   "execution_count": 9,
   "metadata": {},
   "outputs": [],
   "source": [
    "daily >>= mutate(Total=X.east+X.west)"
   ]
  },
  {
   "cell_type": "markdown",
   "metadata": {},
   "source": [
    "3. 用`select`函数，使保留`Total`列，去除`east`和`west`两列。"
   ]
  },
  {
   "cell_type": "code",
   "execution_count": 10,
   "metadata": {},
   "outputs": [
    {
     "data": {
      "text/html": [
       "<div>\n",
       "<style scoped>\n",
       "    .dataframe tbody tr th:only-of-type {\n",
       "        vertical-align: middle;\n",
       "    }\n",
       "\n",
       "    .dataframe tbody tr th {\n",
       "        vertical-align: top;\n",
       "    }\n",
       "\n",
       "    .dataframe thead th {\n",
       "        text-align: right;\n",
       "    }\n",
       "</style>\n",
       "<table border=\"1\" class=\"dataframe\">\n",
       "  <thead>\n",
       "    <tr style=\"text-align: right;\">\n",
       "      <th></th>\n",
       "      <th>Total</th>\n",
       "    </tr>\n",
       "    <tr>\n",
       "      <th>Date</th>\n",
       "      <th></th>\n",
       "    </tr>\n",
       "  </thead>\n",
       "  <tbody>\n",
       "    <tr>\n",
       "      <th>2012-10-03</th>\n",
       "      <td>3521.0</td>\n",
       "    </tr>\n",
       "    <tr>\n",
       "      <th>2012-10-04</th>\n",
       "      <td>3475.0</td>\n",
       "    </tr>\n",
       "    <tr>\n",
       "      <th>2012-10-05</th>\n",
       "      <td>3148.0</td>\n",
       "    </tr>\n",
       "    <tr>\n",
       "      <th>2012-10-06</th>\n",
       "      <td>2006.0</td>\n",
       "    </tr>\n",
       "    <tr>\n",
       "      <th>2012-10-07</th>\n",
       "      <td>2142.0</td>\n",
       "    </tr>\n",
       "    <tr>\n",
       "      <th>...</th>\n",
       "      <td>...</td>\n",
       "    </tr>\n",
       "    <tr>\n",
       "      <th>2018-10-27</th>\n",
       "      <td>1097.0</td>\n",
       "    </tr>\n",
       "    <tr>\n",
       "      <th>2018-10-28</th>\n",
       "      <td>633.0</td>\n",
       "    </tr>\n",
       "    <tr>\n",
       "      <th>2018-10-29</th>\n",
       "      <td>3173.0</td>\n",
       "    </tr>\n",
       "    <tr>\n",
       "      <th>2018-10-30</th>\n",
       "      <td>3515.0</td>\n",
       "    </tr>\n",
       "    <tr>\n",
       "      <th>2018-10-31</th>\n",
       "      <td>3018.0</td>\n",
       "    </tr>\n",
       "  </tbody>\n",
       "</table>\n",
       "<p>2220 rows × 1 columns</p>\n",
       "</div>"
      ],
      "text/plain": [
       "             Total\n",
       "Date              \n",
       "2012-10-03  3521.0\n",
       "2012-10-04  3475.0\n",
       "2012-10-05  3148.0\n",
       "2012-10-06  2006.0\n",
       "2012-10-07  2142.0\n",
       "...            ...\n",
       "2018-10-27  1097.0\n",
       "2018-10-28   633.0\n",
       "2018-10-29  3173.0\n",
       "2018-10-30  3515.0\n",
       "2018-10-31  3018.0\n",
       "\n",
       "[2220 rows x 1 columns]"
      ]
     },
     "execution_count": 10,
     "metadata": {},
     "output_type": "execute_result"
    }
   ],
   "source": [
    "daily >> select(X.Total)"
   ]
  },
  {
   "cell_type": "markdown",
   "metadata": {},
   "source": [
    "4. 用`mutate`函数，加入`annual`列，告诉我们每一天离第一天经过了多少年。"
   ]
  },
  {
   "cell_type": "code",
   "execution_count": 25,
   "metadata": {},
   "outputs": [
    {
     "data": {
      "text/html": [
       "<div>\n",
       "<style scoped>\n",
       "    .dataframe tbody tr th:only-of-type {\n",
       "        vertical-align: middle;\n",
       "    }\n",
       "\n",
       "    .dataframe tbody tr th {\n",
       "        vertical-align: top;\n",
       "    }\n",
       "\n",
       "    .dataframe thead th {\n",
       "        text-align: right;\n",
       "    }\n",
       "</style>\n",
       "<table border=\"1\" class=\"dataframe\">\n",
       "  <thead>\n",
       "    <tr style=\"text-align: right;\">\n",
       "      <th></th>\n",
       "      <th>east</th>\n",
       "      <th>west</th>\n",
       "      <th>date</th>\n",
       "      <th>Total</th>\n",
       "      <th>annual</th>\n",
       "    </tr>\n",
       "    <tr>\n",
       "      <th>Date</th>\n",
       "      <th></th>\n",
       "      <th></th>\n",
       "      <th></th>\n",
       "      <th></th>\n",
       "      <th></th>\n",
       "    </tr>\n",
       "  </thead>\n",
       "  <tbody>\n",
       "    <tr>\n",
       "      <th>2012-10-03</th>\n",
       "      <td>1761.0</td>\n",
       "      <td>1760.0</td>\n",
       "      <td>2012-10-03</td>\n",
       "      <td>3521.0</td>\n",
       "      <td>0.000000</td>\n",
       "    </tr>\n",
       "    <tr>\n",
       "      <th>2012-10-04</th>\n",
       "      <td>1767.0</td>\n",
       "      <td>1708.0</td>\n",
       "      <td>2012-10-04</td>\n",
       "      <td>3475.0</td>\n",
       "      <td>0.002740</td>\n",
       "    </tr>\n",
       "    <tr>\n",
       "      <th>2012-10-05</th>\n",
       "      <td>1590.0</td>\n",
       "      <td>1558.0</td>\n",
       "      <td>2012-10-05</td>\n",
       "      <td>3148.0</td>\n",
       "      <td>0.005479</td>\n",
       "    </tr>\n",
       "    <tr>\n",
       "      <th>2012-10-06</th>\n",
       "      <td>926.0</td>\n",
       "      <td>1080.0</td>\n",
       "      <td>2012-10-06</td>\n",
       "      <td>2006.0</td>\n",
       "      <td>0.008219</td>\n",
       "    </tr>\n",
       "    <tr>\n",
       "      <th>2012-10-07</th>\n",
       "      <td>951.0</td>\n",
       "      <td>1191.0</td>\n",
       "      <td>2012-10-07</td>\n",
       "      <td>2142.0</td>\n",
       "      <td>0.010959</td>\n",
       "    </tr>\n",
       "    <tr>\n",
       "      <th>...</th>\n",
       "      <td>...</td>\n",
       "      <td>...</td>\n",
       "      <td>...</td>\n",
       "      <td>...</td>\n",
       "      <td>...</td>\n",
       "    </tr>\n",
       "    <tr>\n",
       "      <th>2018-10-27</th>\n",
       "      <td>561.0</td>\n",
       "      <td>536.0</td>\n",
       "      <td>2018-10-27</td>\n",
       "      <td>1097.0</td>\n",
       "      <td>6.068493</td>\n",
       "    </tr>\n",
       "    <tr>\n",
       "      <th>2018-10-28</th>\n",
       "      <td>297.0</td>\n",
       "      <td>336.0</td>\n",
       "      <td>2018-10-28</td>\n",
       "      <td>633.0</td>\n",
       "      <td>6.071233</td>\n",
       "    </tr>\n",
       "    <tr>\n",
       "      <th>2018-10-29</th>\n",
       "      <td>1242.0</td>\n",
       "      <td>1931.0</td>\n",
       "      <td>2018-10-29</td>\n",
       "      <td>3173.0</td>\n",
       "      <td>6.073973</td>\n",
       "    </tr>\n",
       "    <tr>\n",
       "      <th>2018-10-30</th>\n",
       "      <td>1328.0</td>\n",
       "      <td>2187.0</td>\n",
       "      <td>2018-10-30</td>\n",
       "      <td>3515.0</td>\n",
       "      <td>6.076712</td>\n",
       "    </tr>\n",
       "    <tr>\n",
       "      <th>2018-10-31</th>\n",
       "      <td>1122.0</td>\n",
       "      <td>1896.0</td>\n",
       "      <td>2018-10-31</td>\n",
       "      <td>3018.0</td>\n",
       "      <td>6.079452</td>\n",
       "    </tr>\n",
       "  </tbody>\n",
       "</table>\n",
       "<p>2220 rows × 5 columns</p>\n",
       "</div>"
      ],
      "text/plain": [
       "              east    west       date   Total    annual\n",
       "Date                                                   \n",
       "2012-10-03  1761.0  1760.0 2012-10-03  3521.0  0.000000\n",
       "2012-10-04  1767.0  1708.0 2012-10-04  3475.0  0.002740\n",
       "2012-10-05  1590.0  1558.0 2012-10-05  3148.0  0.005479\n",
       "2012-10-06   926.0  1080.0 2012-10-06  2006.0  0.008219\n",
       "2012-10-07   951.0  1191.0 2012-10-07  2142.0  0.010959\n",
       "...            ...     ...        ...     ...       ...\n",
       "2018-10-27   561.0   536.0 2018-10-27  1097.0  6.068493\n",
       "2018-10-28   297.0   336.0 2018-10-28   633.0  6.071233\n",
       "2018-10-29  1242.0  1931.0 2018-10-29  3173.0  6.073973\n",
       "2018-10-30  1328.0  2187.0 2018-10-30  3515.0  6.076712\n",
       "2018-10-31  1122.0  1896.0 2018-10-31  3018.0  6.079452\n",
       "\n",
       "[2220 rows x 5 columns]"
      ]
     },
     "execution_count": 25,
     "metadata": {},
     "output_type": "execute_result"
    }
   ],
   "source": [
    "from datetime import timedelta\n",
    "daily >> mutate(annual = (X.date - X.date[0])/timedelta(days=365)) "
   ]
  },
  {
   "cell_type": "markdown",
   "metadata": {},
   "source": [
    "5. 用`mutate`函数在`weather`数据中加入一列，代表一天的平均气温；并将代表降水量的`PRCP`列转换为原来的$1/254$；最后添加新列`DryDay`表示每一天有无降水。"
   ]
  },
  {
   "cell_type": "code",
   "execution_count": null,
   "metadata": {},
   "outputs": [],
   "source": []
  },
  {
   "cell_type": "markdown",
   "metadata": {},
   "source": [
    "## 作业二\n",
    "文件“FlorentineFamily.txt”中的边列表代表15世纪佛罗伦萨的婚姻关系网络，请完成针对该社会网络的初步分析。\n",
    "1. 用networkx模块，以边列表的形式读取“FlorentineFamily.txt”文件构造一个无向图。"
   ]
  },
  {
   "cell_type": "code",
   "execution_count": 30,
   "metadata": {},
   "outputs": [],
   "source": [
    "import networkx as nx\n",
    "g = nx.read_edgelist('FlorentineFamily.txt')"
   ]
  },
  {
   "cell_type": "markdown",
   "metadata": {},
   "source": [
    "2. 将构造的图可视化。"
   ]
  },
  {
   "cell_type": "code",
   "execution_count": 44,
   "metadata": {},
   "outputs": [
    {
     "data": {
      "image/png": "[encoded data removed]",
      "text/plain": [
       "<Figure size 432x288 with 1 Axes>"
      ]
     },
     "metadata": {},
     "output_type": "display_data"
    }
   ],
   "source": [
    "%matplotlib inline\n",
    "nx.draw_networkx(g)"
   ]
  },
  {
   "cell_type": "markdown",
   "metadata": {},
   "source": [
    "3. 计算平均度，并将度分布可视化。"
   ]
  },
  {
   "cell_type": "code",
   "execution_count": 42,
   "metadata": {},
   "outputs": [
    {
     "data": {
      "text/plain": [
       "<matplotlib.axes._subplots.AxesSubplot at 0x7f5e04008ef0>"
      ]
     },
     "execution_count": 42,
     "metadata": {},
     "output_type": "execute_result"
    },
    {
     "data": {
      "image/png": "[encoded data removed]",
      "text/plain": [
       "<Figure size 432x288 with 1 Axes>"
      ]
     },
     "metadata": {
      "needs_background": "light"
     },
     "output_type": "display_data"
    }
   ],
   "source": [
    "np.mean([v for k,v in g.degree()])\n",
    "import seaborn as sns\n",
    "sns.distplot([v for k,v in g.degree()])"
   ]
  },
  {
   "cell_type": "markdown",
   "metadata": {},
   "source": [
    "4. 计算每一个节点的集聚系数，将其存入一个字典，键值对的格式为：节点:该节点的集聚系数。（注意，节点是字符串而不是数字）"
   ]
  },
  {
   "cell_type": "code",
   "execution_count": 43,
   "metadata": {},
   "outputs": [
    {
     "data": {
      "text/plain": [
       "{'0': 0,\n",
       " '8': 0.06666666666666667,\n",
       " '1': 0,\n",
       " '5': 0,\n",
       " '6': 0,\n",
       " '2': 0,\n",
       " '4': 0.3333333333333333,\n",
       " '3': 0.3333333333333333,\n",
       " '10': 0.6666666666666666,\n",
       " '14': 0.3333333333333333,\n",
       " '7': 0,\n",
       " '15': 0.3333333333333333,\n",
       " '12': 0.3333333333333333,\n",
       " '13': 0,\n",
       " '9': 0}"
      ]
     },
     "execution_count": 43,
     "metadata": {},
     "output_type": "execute_result"
    }
   ],
   "source": [
    "nx.clustering(g)"
   ]
  },
  {
   "cell_type": "markdown",
   "metadata": {},
   "source": [
    "5. 分别计算图中节点的中介中心性、接近中心性和特征向量中心性，并对结果进行排序。查看按照不同的中心性定义，结果是否相同？"
   ]
  },
  {
   "cell_type": "code",
   "execution_count": 46,
   "metadata": {},
   "outputs": [
    {
     "data": {
      "text/plain": [
       "{'0': 0.0,\n",
       " '8': 0.521978021978022,\n",
       " '1': 0.2124542124542125,\n",
       " '5': 0.0,\n",
       " '6': 0.25457875457875456,\n",
       " '2': 0.09340659340659341,\n",
       " '4': 0.05494505494505495,\n",
       " '3': 0.1043956043956044,\n",
       " '10': 0.02197802197802198,\n",
       " '14': 0.10256410256410256,\n",
       " '7': 0.0,\n",
       " '15': 0.09157509157509158,\n",
       " '12': 0.11355311355311355,\n",
       " '13': 0.14285714285714288,\n",
       " '9': 0.0}"
      ]
     },
     "execution_count": 46,
     "metadata": {},
     "output_type": "execute_result"
    }
   ],
   "source": [
    "nx.betweenness_centrality(g)"
   ]
  },
  {
   "cell_type": "code",
   "execution_count": 48,
   "metadata": {},
   "outputs": [
    {
     "data": {
      "text/plain": [
       "{'0': 0.3684210526315789,\n",
       " '8': 0.56,\n",
       " '1': 0.4827586206896552,\n",
       " '5': 0.3333333333333333,\n",
       " '6': 0.4666666666666667,\n",
       " '2': 0.4375,\n",
       " '4': 0.3888888888888889,\n",
       " '3': 0.4,\n",
       " '10': 0.3684210526315789,\n",
       " '14': 0.4375,\n",
       " '7': 0.32558139534883723,\n",
       " '15': 0.4827586206896552,\n",
       " '12': 0.5,\n",
       " '13': 0.3888888888888889,\n",
       " '9': 0.2857142857142857}"
      ]
     },
     "execution_count": 48,
     "metadata": {},
     "output_type": "execute_result"
    }
   ],
   "source": [
    "nx.closeness_centrality(g)"
   ]
  },
  {
   "cell_type": "code",
   "execution_count": 49,
   "metadata": {},
   "outputs": [
    {
     "data": {
      "text/plain": [
       "{'0': 0.1321573195285342,\n",
       " '8': 0.4303154258349922,\n",
       " '1': 0.2439605296754477,\n",
       " '5': 0.0749245316027793,\n",
       " '6': 0.2891171573226501,\n",
       " '2': 0.21170574706479847,\n",
       " '4': 0.25902003784235145,\n",
       " '3': 0.2827943958713356,\n",
       " '10': 0.2757224374104833,\n",
       " '14': 0.355973032646045,\n",
       " '7': 0.08879253113499548,\n",
       " '15': 0.32584670416957395,\n",
       " '12': 0.34155442590743645,\n",
       " '13': 0.1459208416417183,\n",
       " '9': 0.04481493970386308}"
      ]
     },
     "execution_count": 49,
     "metadata": {},
     "output_type": "execute_result"
    }
   ],
   "source": [
    "nx.eigenvector_centrality(g)"
   ]
  }
 ],
 "metadata": {
  "kernelspec": {
   "display_name": "Python 3",
   "language": "python",
   "name": "python3"
  },
  "language_info": {
   "codemirror_mode": {
    "name": "ipython",
    "version": 3
   },
   "file_extension": ".py",
   "mimetype": "text/x-python",
   "name": "python",
   "nbconvert_exporter": "python",
   "pygments_lexer": "ipython3",
   "version": "3.6.8"
  }
 },
 "nbformat": 4,
 "nbformat_minor": 2
}
